{
 "cells": [
  {
   "cell_type": "markdown",
   "id": "efe5a8a8-d5db-4a09-ab0e-598178fb513d",
   "metadata": {},
   "source": [
    "\n",
    "# Report on Improving Food Waste Management at Wedding Receptions"
   ]
  },
  {
   "cell_type": "markdown",
   "id": "741a58a6-3c37-4828-8a6a-491604c034b0",
   "metadata": {},
   "source": [
    "## Introduction\n",
    "Food waste at wedding receptions has become a significant concern due to inaccurate predictions of the number of guests who will actually consume meals. This report explores strategies to better estimate the number of meals required, based on data from previous weddings regarding the number of attendees and those who actually dined. The goal is to minimize food waste while ensuring all guests are adequately catered to."
   ]
  },
  {
   "cell_type": "code",
   "execution_count": 2,
   "id": "d17ba6cc-b7b0-41bb-88db-0ce31417c52d",
   "metadata": {},
   "outputs": [],
   "source": [
    "import numpy as np\n",
    "import matplotlib.pyplot as plt\n",
    "import pandas as pd"
   ]
  },
  {
   "cell_type": "code",
   "execution_count": null,
   "id": "253e98aa-5aa0-4947-8a82-f22dfb6d96fc",
   "metadata": {},
   "outputs": [],
   "source": [
    "d"
   ]
  }
 ],
 "metadata": {
  "kernelspec": {
   "display_name": "machineLearning",
   "language": "python",
   "name": "machinelearning"
  },
  "language_info": {
   "codemirror_mode": {
    "name": "ipython",
    "version": 3
   },
   "file_extension": ".py",
   "mimetype": "text/x-python",
   "name": "python",
   "nbconvert_exporter": "python",
   "pygments_lexer": "ipython3",
   "version": "3.12.4"
  }
 },
 "nbformat": 4,
 "nbformat_minor": 5
}
